{
 "cells": [
  {
   "cell_type": "code",
   "id": "e2398fcd7dc80f49",
   "metadata": {
    "ExecuteTime": {
     "end_time": "2025-08-11T16:12:55.570754Z",
     "start_time": "2025-08-11T16:10:03.695727Z"
    }
   },
   "source": [
    "import warnings\n",
    "import dask.dataframe as dd\n",
    "from ydata_profiling import ProfileReport\n",
    "from dask.diagnostics import ProgressBar  # Progress bar support\n",
    "import time\n",
    "\n",
    "# 1. Configuration and Initialization\n",
    "warnings.filterwarnings(\"ignore\", category=UserWarning, message=\"Glyph 9\")\n",
    "\n",
    "# 2. Define Data Structure\n",
    "COLUMNS = ['label'] + [f'I{i}' for i in range(1, 14)] + [f'C{i}' for i in range(1, 27)]\n",
    "NUM_FEATURES = [f'I{i}' for i in range(1, 14)]  # 13 numerical features\n",
    "CAT_FEATURES = [f'C{i}' for i in range(1, 27)]  # 26 categorical features\n",
    "\n",
    "print(\"⏳ Starting data loading...\")\n",
    "start_time = time.time()\n",
    "\n",
    "# 3. Optimized Data Loading (with progress display)\n",
    "with ProgressBar():\n",
    "    ddf = dd.read_csv(\n",
    "        \"../../data/raw/train.txt\",\n",
    "        sep=\"\\t\",\n",
    "        header=None,\n",
    "        names=COLUMNS,\n",
    "        dtype={**{col: 'float32' for col in NUM_FEATURES},\n",
    "               **{col: 'category' for col in CAT_FEATURES},\n",
    "               'label': 'float32'}\n",
    "    )\n",
    "    # Force computation to display progress\n",
    "    row_count = len(ddf)\n",
    "\n",
    "print(f\"✅ Data loading completed! Total rows: {row_count:,} | Time taken: {time.time() - start_time:.1f} seconds\\n\")\n",
    "\n",
    "# 4. Intelligent Sampling (with progress)\n",
    "print(\"⏳ Randomly sampling data...\")\n",
    "start_time = time.time()\n",
    "\n",
    "with ProgressBar():\n",
    "    sample = ddf.head(1000)\n",
    "    # sample = ddf.sample(frac=min(0.1, sample_size/len(ddf))).compute()   # 1% random sample\n",
    "\n",
    "print(f\"✅ Sampling completed! Sample size: {len(sample):,} rows | Time taken: {time.time() - start_time:.1f} seconds\\n\")\n",
    "\n",
    "# 5. Generate Report (with stage prompts)\n",
    "print(\"📊 Generating EDA report (this process may take several minutes)...\")\n",
    "start_time = time.time()\n",
    "\n",
    "profile = ProfileReport(\n",
    "    sample,\n",
    "    # Explicitly disable discretization for numerical columns\n",
    "    vars={\"num\": {\"discretize\": False, \"bins\": None}},\n",
    "    title=\"Large-Scale Feature Analysis\",\n",
    "    progress_bar=True,\n",
    "    variables={\n",
    "        \"descriptions\": {\n",
    "            \"label\": \"Target variable (classification label)\",\n",
    "            **{f\"I{i}\": f\"Numerical feature I{i}\" for i in range(1, 14)},\n",
    "            **{f\"C{i}\": f\"Categorical feature C{i}\" for i in range(1, 27)}\n",
    "        }\n",
    "    },\n",
    "    # Optional: Simplify configuration if correlation calculations don't need discretization results\n",
    "    correlations={\n",
    "        \"pearson\": {\"calculate\": True},\n",
    "        \"cramers\": {\"calculate\": True}\n",
    "    },\n",
    "    interactions={\n",
    "        \"targets\": [\"label\"]\n",
    "    }\n",
    ")\n",
    "\n",
    "# 6. Output Report\n",
    "print(\"💾 Saving HTML report...\")\n",
    "profile.to_file(\"08_eda_dask_ydata_profiling_report.html\")\n",
    "\n",
    "print(f\"\"\"\n",
    "🎉 EDA report generation completed! Key information:\n",
    "- Numerical features: {len(NUM_FEATURES)}\n",
    "- Categorical features: {len(CAT_FEATURES)}\n",
    "- Sample size: {len(sample):,} records (original data: {row_count:,} records)\n",
    "- Total time taken: {time.time() - start_time:.1f} seconds\n",
    "Report saved to: 08_eda_dask_ydata_profiling_report.html\n",
    "\"\"\")"
   ],
   "outputs": [
    {
     "name": "stdout",
     "output_type": "stream",
     "text": [
      "⏳ Starting data loading...\n",
      "[########################################] | 100% Completed | 163.92 s\n",
      "✅ Data loading completed! Total rows: 45,840,617 | Time taken: 163.9 seconds\n",
      "\n",
      "⏳ Randomly sampling data...\n",
      "[########################################] | 100% Completed | 1.25 ss\n",
      "✅ Sampling completed! Sample size: 1,000 rows | Time taken: 1.3 seconds\n",
      "\n",
      "📊 Generating EDA report (this process may take several minutes)...\n",
      "💾 Saving HTML report...\n"
     ]
    },
    {
     "name": "stderr",
     "output_type": "stream",
     "text": [
      "Summarize dataset:  38%|███▊      | 17/45 [00:00<00:00, 82.48it/s, Describe variable: C12] \n",
      "Summarize dataset:  69%|██████▉   | 31/45 [00:00<00:00, 67.74it/s, Describe variable: C26]\n",
      "100%|██████████| 40/40 [00:00<00:00, 153.31it/s]<00:00, 59.55it/s, Describe variable: C26]\n",
      "Summarize dataset: 100%|██████████| 64/64 [00:01<00:00, 33.87it/s, Completed]                    \n",
      "Generate report structure: 100%|██████████| 1/1 [00:03<00:00,  3.49s/it]\n",
      "Render HTML: 100%|██████████| 1/1 [00:00<00:00,  1.87it/s]\n",
      "Export report to file: 100%|██████████| 1/1 [00:00<00:00, 243.90it/s]"
     ]
    },
    {
     "name": "stdout",
     "output_type": "stream",
     "text": [
      "\n",
      "🎉 EDA report generation completed! Key information:\n",
      "- Numerical features: 13\n",
      "- Categorical features: 26\n",
      "- Sample size: 1,000 records (original data: 45,840,617 records)\n",
      "- Total time taken: 6.7 seconds\n",
      "Report saved to: 08_eda_dask_ydata_profiling_report.html\n",
      "\n"
     ]
    },
    {
     "name": "stderr",
     "output_type": "stream",
     "text": [
      "\n"
     ]
    }
   ],
   "execution_count": 22
  }
 ],
 "metadata": {
  "kernelspec": {
   "display_name": "Python 3",
   "language": "python",
   "name": "python3"
  },
  "language_info": {
   "codemirror_mode": {
    "name": "ipython",
    "version": 2
   },
   "file_extension": ".py",
   "mimetype": "text/x-python",
   "name": "python",
   "nbconvert_exporter": "python",
   "pygments_lexer": "ipython2",
   "version": "2.7.6"
  }
 },
 "nbformat": 4,
 "nbformat_minor": 5
}
